{
 "cells": [
  {
   "cell_type": "code",
   "execution_count": 16,
   "id": "d97ecace-3314-4cd1-b9a2-a8bfceffd441",
   "metadata": {},
   "outputs": [
    {
     "name": "stdout",
     "output_type": "stream",
     "text": [
      "First few rows of Volume and Pressure data:\n",
      "   Volume  Pressure\n",
      "0      48   29.1250\n",
      "1      46   30.5625\n",
      "2      44   31.9375\n",
      "\n",
      "Mean: \n",
      "Volume      27.1200\n",
      "Pressure    61.5075\n",
      "dtype: float64\n",
      "\n",
      "Median: \n",
      "Volume      24.0000\n",
      "Pressure    58.8125\n",
      "dtype: float64\n",
      "\n",
      "Standard Deviation: \n",
      "Volume      11.192706\n",
      "Pressure    25.840546\n",
      "dtype: float64\n"
     ]
    }
   ],
   "source": [
    "# PART A\n",
    "\n",
    "# Import Pandas\n",
    "import pandas as pd\n",
    "\n",
    "# Import the volume and pressure data in Pandas\n",
    "df = pd.read_csv(\"volume_pressure_data.csv\")\n",
    "\n",
    "# Print the first few rows of the dataset\n",
    "print(\"First few rows of Volume and Pressure data:\")\n",
    "print(df[:3])\n",
    "\n",
    "# Print Mean\n",
    "print(\"\\nMean: \")\n",
    "print(df.mean())\n",
    "\n",
    "# Print Median\n",
    "print(\"\\nMedian: \")\n",
    "print(df.median())\n",
    "\n",
    "# Print Standard Deviation\n",
    "print(\"\\nStandard Deviation: \")\n",
    "print(df.std())"
   ]
  },
  {
   "cell_type": "code",
   "execution_count": null,
   "id": "3414d2dd-f024-43e2-bde5-177505a1232d",
   "metadata": {},
   "outputs": [],
   "source": []
  }
 ],
 "metadata": {
  "kernelspec": {
   "display_name": "Python 3 (ipykernel)",
   "language": "python",
   "name": "python3"
  },
  "language_info": {
   "codemirror_mode": {
    "name": "ipython",
    "version": 3
   },
   "file_extension": ".py",
   "mimetype": "text/x-python",
   "name": "python",
   "nbconvert_exporter": "python",
   "pygments_lexer": "ipython3",
   "version": "3.10.12"
  }
 },
 "nbformat": 4,
 "nbformat_minor": 5
}
